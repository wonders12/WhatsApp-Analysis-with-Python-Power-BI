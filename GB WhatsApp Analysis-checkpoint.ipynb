{
 "cells": [
  {
   "cell_type": "code",
   "execution_count": 20,
   "metadata": {},
   "outputs": [],
   "source": [
    "import pandas as pd\n",
    "import numpy as np\n",
    "from datetime import datetime\n",
    "import re\n",
    "import warnings\n",
    "warnings.filterwarnings(\"ignore\")"
   ]
  },
  {
   "cell_type": "markdown",
   "metadata": {},
   "source": [
    "Next we need to load our Chat.txt into Python and read it. We will do this using the function below:"
   ]
  },
  {
   "cell_type": "code",
   "execution_count": 21,
   "metadata": {},
   "outputs": [],
   "source": [
    "with open('gbwhatsapp.txt', \"r\", encoding='utf-8') as infile:\n",
    "    output_Data = { 'DateTime': [], 'Name': [], 'Content': [] }\n",
    "    for line in infile:\n",
    "        matches = re.match(r'^(\\d{1,2})\\/(\\d{1,2})\\/(\\d\\d), (24:00|2[0-3]:[0-5][0-9]|[0-1][0-9]:[0-5][0-9]) - ((\\S[^:]*?): )?(.*)$', line)\n",
    "        if matches:\n",
    "          output_Data['DateTime'].append(\n",
    "            datetime(\n",
    "              int(matches.group(3))+2000,\n",
    "              int(matches.group(1)),\n",
    "              int(matches.group(2)),\n",
    "              hour=int(matches.group(4)[0:2]),\n",
    "              minute=int(matches.group(4)[3:])\n",
    "            ))\n",
    "          output_Data['Name'].append(matches.group(6) or \"{undefined}\")\n",
    "          output_Data['Content'].append(matches.group(7))\n",
    "\n",
    "        elif len(output_Data['Content']) > 0:\n",
    "          output_Data['Content'][-1] += \"\\n\" + line[0:-1]\n"
   ]
  },
  {
   "cell_type": "code",
   "execution_count": 22,
   "metadata": {},
   "outputs": [
    {
     "data": {
      "text/html": [
       "<div>\n",
       "<style scoped>\n",
       "    .dataframe tbody tr th:only-of-type {\n",
       "        vertical-align: middle;\n",
       "    }\n",
       "\n",
       "    .dataframe tbody tr th {\n",
       "        vertical-align: top;\n",
       "    }\n",
       "\n",
       "    .dataframe thead th {\n",
       "        text-align: right;\n",
       "    }\n",
       "</style>\n",
       "<table border=\"1\" class=\"dataframe\">\n",
       "  <thead>\n",
       "    <tr style=\"text-align: right;\">\n",
       "      <th></th>\n",
       "      <th>DateTime</th>\n",
       "      <th>Name</th>\n",
       "      <th>Content</th>\n",
       "    </tr>\n",
       "  </thead>\n",
       "  <tbody>\n",
       "    <tr>\n",
       "      <th>0</th>\n",
       "      <td>2021-07-07 17:50:00</td>\n",
       "      <td>{undefined}</td>\n",
       "      <td>Messages and calls are end-to-end encrypted. N...</td>\n",
       "    </tr>\n",
       "    <tr>\n",
       "      <th>1</th>\n",
       "      <td>2019-12-03 18:30:00</td>\n",
       "      <td>{undefined}</td>\n",
       "      <td>Group creator created group \"GBfoods Nigeria\"</td>\n",
       "    </tr>\n",
       "    <tr>\n",
       "      <th>2</th>\n",
       "      <td>2021-07-07 17:49:00</td>\n",
       "      <td>{undefined}</td>\n",
       "      <td>GB IT Deji added you</td>\n",
       "    </tr>\n",
       "    <tr>\n",
       "      <th>3</th>\n",
       "      <td>2021-07-07 17:51:00</td>\n",
       "      <td>{undefined}</td>\n",
       "      <td>GB IT Deji added GB Soji</td>\n",
       "    </tr>\n",
       "    <tr>\n",
       "      <th>4</th>\n",
       "      <td>2021-07-07 17:56:00</td>\n",
       "      <td>+234 812 990 1693</td>\n",
       "      <td>Stephanie</td>\n",
       "    </tr>\n",
       "  </tbody>\n",
       "</table>\n",
       "</div>"
      ],
      "text/plain": [
       "             DateTime               Name  \\\n",
       "0 2021-07-07 17:50:00        {undefined}   \n",
       "1 2019-12-03 18:30:00        {undefined}   \n",
       "2 2021-07-07 17:49:00        {undefined}   \n",
       "3 2021-07-07 17:51:00        {undefined}   \n",
       "4 2021-07-07 17:56:00  +234 812 990 1693   \n",
       "\n",
       "                                             Content  \n",
       "0  Messages and calls are end-to-end encrypted. N...  \n",
       "1      Group creator created group \"GBfoods Nigeria\"  \n",
       "2                               GB IT Deji added you  \n",
       "3                           GB IT Deji added GB Soji  \n",
       "4                                          Stephanie  "
      ]
     },
     "execution_count": 22,
     "metadata": {},
     "output_type": "execute_result"
    }
   ],
   "source": [
    "df = pd.DataFrame(output_Data)\n",
    "df.head()"
   ]
  },
  {
   "cell_type": "markdown",
   "metadata": {},
   "source": [
    "Remove messages where Name is 'undefined' as these represent system messages."
   ]
  },
  {
   "cell_type": "code",
   "execution_count": 23,
   "metadata": {},
   "outputs": [
    {
     "name": "stdout",
     "output_type": "stream",
     "text": [
      "length of df before:11042\n",
      "length of df after:10911\n"
     ]
    }
   ],
   "source": [
    "print(\"length of df before:{}\".format(len(df)))\n",
    "#Remove messages where Name is 'undefined' as these represent system messages.\n",
    "df = df[~df[\"Name\"].str.contains(\"undefined\")]\n",
    "print(\"length of df after:{}\".format(len(df)))"
   ]
  },
  {
   "cell_type": "code",
   "execution_count": 24,
   "metadata": {},
   "outputs": [
    {
     "data": {
      "text/html": [
       "<div>\n",
       "<style scoped>\n",
       "    .dataframe tbody tr th:only-of-type {\n",
       "        vertical-align: middle;\n",
       "    }\n",
       "\n",
       "    .dataframe tbody tr th {\n",
       "        vertical-align: top;\n",
       "    }\n",
       "\n",
       "    .dataframe thead th {\n",
       "        text-align: right;\n",
       "    }\n",
       "</style>\n",
       "<table border=\"1\" class=\"dataframe\">\n",
       "  <thead>\n",
       "    <tr style=\"text-align: right;\">\n",
       "      <th></th>\n",
       "      <th>DateTime</th>\n",
       "      <th>Name</th>\n",
       "      <th>Content</th>\n",
       "    </tr>\n",
       "  </thead>\n",
       "  <tbody>\n",
       "    <tr>\n",
       "      <th>4</th>\n",
       "      <td>2021-07-07 17:56:00</td>\n",
       "      <td>+234 812 990 1693</td>\n",
       "      <td>Stephanie</td>\n",
       "    </tr>\n",
       "    <tr>\n",
       "      <th>5</th>\n",
       "      <td>2021-07-07 18:02:00</td>\n",
       "      <td>+234 814 849 1766</td>\n",
       "      <td>🤣🤣</td>\n",
       "    </tr>\n",
       "    <tr>\n",
       "      <th>6</th>\n",
       "      <td>2021-07-07 18:03:00</td>\n",
       "      <td>+234 806 207 1591</td>\n",
       "      <td>So closely far-away</td>\n",
       "    </tr>\n",
       "    <tr>\n",
       "      <th>7</th>\n",
       "      <td>2021-07-07 18:03:00</td>\n",
       "      <td>+234 806 207 1591</td>\n",
       "      <td>It was supposed to be you but....</td>\n",
       "    </tr>\n",
       "    <tr>\n",
       "      <th>8</th>\n",
       "      <td>2021-07-07 18:08:00</td>\n",
       "      <td>+234 806 207 1591</td>\n",
       "      <td>Reminder... The much anticipated Hot Seat Q&amp;A ...</td>\n",
       "    </tr>\n",
       "    <tr>\n",
       "      <th>9</th>\n",
       "      <td>2021-07-07 18:09:00</td>\n",
       "      <td>+234 806 207 1591</td>\n",
       "      <td>Lolzzxx</td>\n",
       "    </tr>\n",
       "    <tr>\n",
       "      <th>10</th>\n",
       "      <td>2021-07-07 18:10:00</td>\n",
       "      <td>+234 812 990 1693</td>\n",
       "      <td>Which mail o</td>\n",
       "    </tr>\n",
       "    <tr>\n",
       "      <th>11</th>\n",
       "      <td>2021-07-07 18:11:00</td>\n",
       "      <td>+234 809 507 3153</td>\n",
       "      <td>https://teams.microsoft.com/l/meetup-join/19%3...</td>\n",
       "    </tr>\n",
       "    <tr>\n",
       "      <th>12</th>\n",
       "      <td>2021-07-07 18:11:00</td>\n",
       "      <td>+234 806 207 1591</td>\n",
       "      <td>https://teams.microsoft.com/l/meetup-join/19%3...</td>\n",
       "    </tr>\n",
       "    <tr>\n",
       "      <th>13</th>\n",
       "      <td>2021-07-07 18:11:00</td>\n",
       "      <td>+234 812 990 1693</td>\n",
       "      <td>👌🏾</td>\n",
       "    </tr>\n",
       "  </tbody>\n",
       "</table>\n",
       "</div>"
      ],
      "text/plain": [
       "              DateTime               Name  \\\n",
       "4  2021-07-07 17:56:00  +234 812 990 1693   \n",
       "5  2021-07-07 18:02:00  +234 814 849 1766   \n",
       "6  2021-07-07 18:03:00  +234 806 207 1591   \n",
       "7  2021-07-07 18:03:00  +234 806 207 1591   \n",
       "8  2021-07-07 18:08:00  +234 806 207 1591   \n",
       "9  2021-07-07 18:09:00  +234 806 207 1591   \n",
       "10 2021-07-07 18:10:00  +234 812 990 1693   \n",
       "11 2021-07-07 18:11:00  +234 809 507 3153   \n",
       "12 2021-07-07 18:11:00  +234 806 207 1591   \n",
       "13 2021-07-07 18:11:00  +234 812 990 1693   \n",
       "\n",
       "                                              Content  \n",
       "4                                           Stephanie  \n",
       "5                                                  🤣🤣  \n",
       "6                                 So closely far-away  \n",
       "7                   It was supposed to be you but....  \n",
       "8   Reminder... The much anticipated Hot Seat Q&A ...  \n",
       "9                                             Lolzzxx  \n",
       "10                                       Which mail o  \n",
       "11  https://teams.microsoft.com/l/meetup-join/19%3...  \n",
       "12  https://teams.microsoft.com/l/meetup-join/19%3...  \n",
       "13                                                 👌🏾  "
      ]
     },
     "execution_count": 24,
     "metadata": {},
     "output_type": "execute_result"
    }
   ],
   "source": [
    "df.head(10)"
   ]
  },
  {
   "cell_type": "code",
   "execution_count": 25,
   "metadata": {},
   "outputs": [
    {
     "data": {
      "text/html": [
       "<div>\n",
       "<style scoped>\n",
       "    .dataframe tbody tr th:only-of-type {\n",
       "        vertical-align: middle;\n",
       "    }\n",
       "\n",
       "    .dataframe tbody tr th {\n",
       "        vertical-align: top;\n",
       "    }\n",
       "\n",
       "    .dataframe thead th {\n",
       "        text-align: right;\n",
       "    }\n",
       "</style>\n",
       "<table border=\"1\" class=\"dataframe\">\n",
       "  <thead>\n",
       "    <tr style=\"text-align: right;\">\n",
       "      <th></th>\n",
       "      <th>DateTime</th>\n",
       "      <th>Name</th>\n",
       "      <th>Content</th>\n",
       "    </tr>\n",
       "  </thead>\n",
       "  <tbody>\n",
       "    <tr>\n",
       "      <th>31</th>\n",
       "      <td>2021-07-07 18:33:00</td>\n",
       "      <td>GB Lynda</td>\n",
       "      <td>Guys another 10mins to try...\\nOur sales Team ...</td>\n",
       "    </tr>\n",
       "    <tr>\n",
       "      <th>38</th>\n",
       "      <td>2021-07-07 18:36:00</td>\n",
       "      <td>GB Lynda</td>\n",
       "      <td>My people.. You won't want to miss this...\\n\\n...</td>\n",
       "    </tr>\n",
       "    <tr>\n",
       "      <th>49</th>\n",
       "      <td>2021-07-07 18:54:00</td>\n",
       "      <td>+234 812 912 2073</td>\n",
       "      <td>Bayo, you are confused.\\nIs Dr. Teddy not just...</td>\n",
       "    </tr>\n",
       "    <tr>\n",
       "      <th>60</th>\n",
       "      <td>2021-07-07 19:13:00</td>\n",
       "      <td>GB Lynda</td>\n",
       "      <td>People join the Hot seat session\\nOur own Dr T...</td>\n",
       "    </tr>\n",
       "    <tr>\n",
       "      <th>76</th>\n",
       "      <td>2021-07-08 14:48:00</td>\n",
       "      <td>+234 812 912 2011</td>\n",
       "      <td>Good afternoon Team, please remember to connec...</td>\n",
       "    </tr>\n",
       "  </tbody>\n",
       "</table>\n",
       "</div>"
      ],
      "text/plain": [
       "              DateTime               Name  \\\n",
       "31 2021-07-07 18:33:00           GB Lynda   \n",
       "38 2021-07-07 18:36:00           GB Lynda   \n",
       "49 2021-07-07 18:54:00  +234 812 912 2073   \n",
       "60 2021-07-07 19:13:00           GB Lynda   \n",
       "76 2021-07-08 14:48:00  +234 812 912 2011   \n",
       "\n",
       "                                              Content  \n",
       "31  Guys another 10mins to try...\\nOur sales Team ...  \n",
       "38  My people.. You won't want to miss this...\\n\\n...  \n",
       "49  Bayo, you are confused.\\nIs Dr. Teddy not just...  \n",
       "60  People join the Hot seat session\\nOur own Dr T...  \n",
       "76  Good afternoon Team, please remember to connec...  "
      ]
     },
     "execution_count": 25,
     "metadata": {},
     "output_type": "execute_result"
    }
   ],
   "source": [
    "df[df[\"Content\"].str.contains('\\n')].head()"
   ]
  },
  {
   "cell_type": "code",
   "execution_count": 26,
   "metadata": {},
   "outputs": [],
   "source": [
    "df[\"Content\"] = df[\"Content\"].replace('\\n', ' ', regex=True)"
   ]
  },
  {
   "cell_type": "code",
   "execution_count": 27,
   "metadata": {},
   "outputs": [
    {
     "data": {
      "text/html": [
       "<div>\n",
       "<style scoped>\n",
       "    .dataframe tbody tr th:only-of-type {\n",
       "        vertical-align: middle;\n",
       "    }\n",
       "\n",
       "    .dataframe tbody tr th {\n",
       "        vertical-align: top;\n",
       "    }\n",
       "\n",
       "    .dataframe thead th {\n",
       "        text-align: right;\n",
       "    }\n",
       "</style>\n",
       "<table border=\"1\" class=\"dataframe\">\n",
       "  <thead>\n",
       "    <tr style=\"text-align: right;\">\n",
       "      <th></th>\n",
       "      <th>DateTime</th>\n",
       "      <th>Name</th>\n",
       "      <th>Content</th>\n",
       "    </tr>\n",
       "  </thead>\n",
       "  <tbody>\n",
       "  </tbody>\n",
       "</table>\n",
       "</div>"
      ],
      "text/plain": [
       "Empty DataFrame\n",
       "Columns: [DateTime, Name, Content]\n",
       "Index: []"
      ]
     },
     "execution_count": 27,
     "metadata": {},
     "output_type": "execute_result"
    }
   ],
   "source": [
    "df[df[\"Content\"].str.contains('\\n')]"
   ]
  },
  {
   "cell_type": "markdown",
   "metadata": {},
   "source": [
    " Create Columns for Date, Time, Word Count etc."
   ]
  },
  {
   "cell_type": "code",
   "execution_count": 28,
   "metadata": {},
   "outputs": [
    {
     "data": {
      "text/plain": [
       "4    2021-07-07\n",
       "5    2021-07-07\n",
       "6    2021-07-07\n",
       "7    2021-07-07\n",
       "8    2021-07-07\n",
       "Name: Date, dtype: object"
      ]
     },
     "execution_count": 28,
     "metadata": {},
     "output_type": "execute_result"
    }
   ],
   "source": [
    "df['Date'] = [datetime.date(d) for d in df['DateTime']] \n",
    "df[\"Date\"].head()"
   ]
  },
  {
   "cell_type": "code",
   "execution_count": 29,
   "metadata": {},
   "outputs": [
    {
     "data": {
      "text/plain": [
       "(10911,)"
      ]
     },
     "execution_count": 29,
     "metadata": {},
     "output_type": "execute_result"
    }
   ],
   "source": [
    "df['Time'] = [datetime.time(d) for d in df['DateTime']]\n",
    "df[\"Time\"].shape"
   ]
  },
  {
   "cell_type": "code",
   "execution_count": 30,
   "metadata": {},
   "outputs": [
    {
     "data": {
      "text/plain": [
       "4    17\n",
       "5    18\n",
       "6    18\n",
       "7    18\n",
       "8    18\n",
       "Name: Hour, dtype: int64"
      ]
     },
     "execution_count": 30,
     "metadata": {},
     "output_type": "execute_result"
    }
   ],
   "source": [
    "df['Hour'] = df.DateTime.dt.hour\n",
    "df[\"Hour\"].head()"
   ]
  },
  {
   "cell_type": "code",
   "execution_count": 31,
   "metadata": {},
   "outputs": [],
   "source": [
    "df['weekday'] = df['DateTime'].apply(lambda x: x.day_name())"
   ]
  },
  {
   "cell_type": "code",
   "execution_count": 32,
   "metadata": {},
   "outputs": [],
   "source": [
    "df['Word_Count'] = df['Content'].str.count(' ') + 1\n",
    "df['Letter_Count'] = df['Content'].apply(lambda s : len(s))"
   ]
  },
  {
   "cell_type": "code",
   "execution_count": 33,
   "metadata": {},
   "outputs": [],
   "source": [
    "df.reset_index(drop=True, inplace=True)"
   ]
  },
  {
   "cell_type": "code",
   "execution_count": 34,
   "metadata": {},
   "outputs": [
    {
     "data": {
      "text/html": [
       "<div>\n",
       "<style scoped>\n",
       "    .dataframe tbody tr th:only-of-type {\n",
       "        vertical-align: middle;\n",
       "    }\n",
       "\n",
       "    .dataframe tbody tr th {\n",
       "        vertical-align: top;\n",
       "    }\n",
       "\n",
       "    .dataframe thead th {\n",
       "        text-align: right;\n",
       "    }\n",
       "</style>\n",
       "<table border=\"1\" class=\"dataframe\">\n",
       "  <thead>\n",
       "    <tr style=\"text-align: right;\">\n",
       "      <th></th>\n",
       "      <th>DateTime</th>\n",
       "      <th>Name</th>\n",
       "      <th>Content</th>\n",
       "      <th>Date</th>\n",
       "      <th>Time</th>\n",
       "      <th>Hour</th>\n",
       "      <th>weekday</th>\n",
       "      <th>Word_Count</th>\n",
       "      <th>Letter_Count</th>\n",
       "    </tr>\n",
       "  </thead>\n",
       "  <tbody>\n",
       "    <tr>\n",
       "      <th>0</th>\n",
       "      <td>2021-07-07 17:56:00</td>\n",
       "      <td>+234 812 990 1693</td>\n",
       "      <td>Stephanie</td>\n",
       "      <td>2021-07-07</td>\n",
       "      <td>17:56:00</td>\n",
       "      <td>17</td>\n",
       "      <td>Wednesday</td>\n",
       "      <td>1</td>\n",
       "      <td>9</td>\n",
       "    </tr>\n",
       "    <tr>\n",
       "      <th>1</th>\n",
       "      <td>2021-07-07 18:02:00</td>\n",
       "      <td>+234 814 849 1766</td>\n",
       "      <td>🤣🤣</td>\n",
       "      <td>2021-07-07</td>\n",
       "      <td>18:02:00</td>\n",
       "      <td>18</td>\n",
       "      <td>Wednesday</td>\n",
       "      <td>1</td>\n",
       "      <td>2</td>\n",
       "    </tr>\n",
       "    <tr>\n",
       "      <th>2</th>\n",
       "      <td>2021-07-07 18:03:00</td>\n",
       "      <td>+234 806 207 1591</td>\n",
       "      <td>So closely far-away</td>\n",
       "      <td>2021-07-07</td>\n",
       "      <td>18:03:00</td>\n",
       "      <td>18</td>\n",
       "      <td>Wednesday</td>\n",
       "      <td>3</td>\n",
       "      <td>19</td>\n",
       "    </tr>\n",
       "    <tr>\n",
       "      <th>3</th>\n",
       "      <td>2021-07-07 18:03:00</td>\n",
       "      <td>+234 806 207 1591</td>\n",
       "      <td>It was supposed to be you but....</td>\n",
       "      <td>2021-07-07</td>\n",
       "      <td>18:03:00</td>\n",
       "      <td>18</td>\n",
       "      <td>Wednesday</td>\n",
       "      <td>7</td>\n",
       "      <td>33</td>\n",
       "    </tr>\n",
       "    <tr>\n",
       "      <th>4</th>\n",
       "      <td>2021-07-07 18:08:00</td>\n",
       "      <td>+234 806 207 1591</td>\n",
       "      <td>Reminder... The much anticipated Hot Seat Q&amp;A ...</td>\n",
       "      <td>2021-07-07</td>\n",
       "      <td>18:08:00</td>\n",
       "      <td>18</td>\n",
       "      <td>Wednesday</td>\n",
       "      <td>20</td>\n",
       "      <td>117</td>\n",
       "    </tr>\n",
       "  </tbody>\n",
       "</table>\n",
       "</div>"
      ],
      "text/plain": [
       "             DateTime               Name  \\\n",
       "0 2021-07-07 17:56:00  +234 812 990 1693   \n",
       "1 2021-07-07 18:02:00  +234 814 849 1766   \n",
       "2 2021-07-07 18:03:00  +234 806 207 1591   \n",
       "3 2021-07-07 18:03:00  +234 806 207 1591   \n",
       "4 2021-07-07 18:08:00  +234 806 207 1591   \n",
       "\n",
       "                                             Content        Date      Time  \\\n",
       "0                                          Stephanie  2021-07-07  17:56:00   \n",
       "1                                                 🤣🤣  2021-07-07  18:02:00   \n",
       "2                                So closely far-away  2021-07-07  18:03:00   \n",
       "3                  It was supposed to be you but....  2021-07-07  18:03:00   \n",
       "4  Reminder... The much anticipated Hot Seat Q&A ...  2021-07-07  18:08:00   \n",
       "\n",
       "   Hour    weekday  Word_Count  Letter_Count  \n",
       "0    17  Wednesday           1             9  \n",
       "1    18  Wednesday           1             2  \n",
       "2    18  Wednesday           3            19  \n",
       "3    18  Wednesday           7            33  \n",
       "4    18  Wednesday          20           117  "
      ]
     },
     "execution_count": 34,
     "metadata": {},
     "output_type": "execute_result"
    }
   ],
   "source": [
    "df.head()"
   ]
  },
  {
   "cell_type": "code",
   "execution_count": 35,
   "metadata": {},
   "outputs": [],
   "source": [
    "#saving to csv format\n",
    "df.to_csv(\"Gb_whatsapp.csv\")"
   ]
  },
  {
   "cell_type": "code",
   "execution_count": null,
   "metadata": {},
   "outputs": [],
   "source": []
  }
 ],
 "metadata": {
  "hide_input": false,
  "kernelspec": {
   "display_name": "Python 3 (ipykernel)",
   "language": "python",
   "name": "python3"
  },
  "language_info": {
   "codemirror_mode": {
    "name": "ipython",
    "version": 3
   },
   "file_extension": ".py",
   "mimetype": "text/x-python",
   "name": "python",
   "nbconvert_exporter": "python",
   "pygments_lexer": "ipython3",
   "version": "3.9.7"
  },
  "toc": {
   "base_numbering": 1,
   "nav_menu": {},
   "number_sections": true,
   "sideBar": true,
   "skip_h1_title": false,
   "title_cell": "Table of Contents",
   "title_sidebar": "Contents",
   "toc_cell": false,
   "toc_position": {},
   "toc_section_display": true,
   "toc_window_display": false
  }
 },
 "nbformat": 4,
 "nbformat_minor": 2
}
